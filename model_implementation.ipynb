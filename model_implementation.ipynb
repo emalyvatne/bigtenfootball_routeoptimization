{
 "cells": [
  {
   "cell_type": "code",
   "execution_count": 8,
   "id": "d746cdbc",
   "metadata": {},
   "outputs": [],
   "source": [
    "import os\n",
    "import pandas as pd\n",
    "# pd.options.display.max_rows = None\n",
    "from pulp import *\n",
    "\n",
    "main_dir = os.getcwd()\n",
    "output_dir = f\"{main_dir}/outputs\""
   ]
  },
  {
   "cell_type": "code",
   "execution_count": 9,
   "id": "00bf4558",
   "metadata": {},
   "outputs": [],
   "source": [
    "schedule = pd.read_csv(f\"{output_dir}/schedule.csv\")\n",
    "schedule = schedule.rename(columns={\"Unnamed: 7\": \"LocationDesignation\"})\n",
    "date_df = schedule.set_index('Date')\n",
    "mile_matrix_wide = pd.read_csv(f\"{output_dir}/mile_matrix_wide.csv\")\n",
    "\n",
    "mile_matrix_wide = mile_matrix_wide.rename(columns={\"Unnamed: 0\": \"source\"})\n",
    "mile_matrix_long = mile_matrix_wide.melt(id_vars=\"source\", var_name=\"destination\", value_name=\"miles\")"
   ]
  },
  {
   "cell_type": "code",
   "execution_count": 10,
   "id": "84392c6e",
   "metadata": {},
   "outputs": [],
   "source": [
    "# ----- map mile matrix school names to the college football schedule -----\n",
    "matrixlist_to_team = {\n",
    "    'University of Illinois Urbana-Champaign': 'Illinois',\n",
    "    'Indiana University Bloomington': 'Indiana',\n",
    "    'University of Iowa': 'Iowa',\n",
    "    'University of Maryland, College Park': 'Maryland',\n",
    "    'University of Michigan': 'Michigan',\n",
    "    'Michigan State University': 'MichiganState',\n",
    "    'University of Minnesota Twin Cities': 'Minnesota',\n",
    "    'University of Nebraska-Lincoln': 'Nebraska',\n",
    "    'Northwestern University': 'Northwestern',\n",
    "    'The Ohio State University': 'OhioState',\n",
    "    'University of Oregon': 'Oregon',\n",
    "    'Pennsylvania State University': 'PennState',\n",
    "    'Purdue University': 'Purdue',\n",
    "    'Rutgers, The State University of New Jersey, New Brunswick': 'Rutgers',\n",
    "    'University of Southern California': 'SouthernCalifornia',\n",
    "    'University of California, Los Angeles': 'UCLA',\n",
    "    'University of Washington': 'Washington',\n",
    "    'University of Wisconsin-Madison': 'Wisconsin'\n",
    "}\n",
    "mile_matrix_long['source'] = mile_matrix_long['source'].map(matrixlist_to_team)\n",
    "mile_matrix_long['destination'] = mile_matrix_long['destination'].map(matrixlist_to_team)"
   ]
  },
  {
   "cell_type": "code",
   "execution_count": 11,
   "id": "177eb0e7",
   "metadata": {},
   "outputs": [],
   "source": [
    "# filter for only ohio state so it's always coming from Columbus\n",
    "mile_matrix_long = mile_matrix_long[mile_matrix_long['source'] == \"OhioState\"]\n",
    "mile_matrix_long = mile_matrix_long.dropna(subset=['destination', 'miles'])\n",
    "mile_matrix_long = (\n",
    "    mile_matrix_long\n",
    "    .assign(source=lambda d: d[\"source\"].str.strip(),\n",
    "            destination=lambda d: d[\"destination\"].str.strip())\n",
    "    .drop_duplicates([\"source\", \"destination\"])\n",
    "    .set_index([\"source\", \"destination\"])\n",
    "    .sort_index()\n",
    ")\n",
    "distance_lookup = mile_matrix_long[\"miles\"].to_dict()"
   ]
  },
  {
   "cell_type": "code",
   "execution_count": 12,
   "id": "c63e2af9",
   "metadata": {},
   "outputs": [],
   "source": [
    "# ----- clean the schedule -----\n",
    "# rename columns\n",
    "schedule.columns = ['Unnamed', 'Rk', 'Date', 'Time', 'Day', 'Winner', 'Pts', 'LocationDesignation', 'Loser', 'Pts.1', 'Notes']\n",
    "# create home/away assignment\n",
    "schedule['Home'] = schedule.apply(\n",
    "    lambda row: row['Loser'] if row['LocationDesignation'] == '@' else row['Winner'],\n",
    "    axis=1\n",
    ")\n",
    "schedule['Away'] = schedule.apply(\n",
    "    lambda row: row['Winner'] if row['LocationDesignation'] == '@' else row['Loser'],\n",
    "    axis=1\n",
    ")\n",
    "\n",
    "# assign points\n",
    "schedule['HomePts'] = schedule.apply(\n",
    "    lambda row: row['Pts.1'] if row['LocationDesignation'] == '@' else row['Pts'],\n",
    "    axis=1\n",
    ")\n",
    "schedule['AwayPts'] = schedule.apply(\n",
    "    lambda row: row['Pts'] if row['LocationDesignation'] == '@' else row['Pts.1'],\n",
    "    axis=1\n",
    ")\n",
    "\n",
    "# select and order desired columns\n",
    "schedule = schedule[['Rk', 'Date', 'Time', 'Day', 'Home', 'HomePts', 'Away', 'AwayPts', 'Notes']]\n",
    "# clean the Home and Away column to remove rankings\n",
    "schedule['Home'] = schedule['Home'].str.replace('\\xa0', '', regex=False).str.replace(r\"[ ()\\d]\", \"\", regex=True)\n",
    "schedule['Away'] = schedule['Away'].str.replace('\\xa0', '', regex=False).str.replace(r\"[ ()\\d]\", \"\", regex=True)\n"
   ]
  },
  {
   "cell_type": "code",
   "execution_count": 14,
   "id": "1d0ac74b",
   "metadata": {},
   "outputs": [
    {
     "name": "stdout",
     "output_type": "stream",
     "text": [
      "Status: Optimal\n",
      "Total Miles Traveled: 12630.706757658263\n"
     ]
    }
   ],
   "source": [
    "# Define constants\n",
    "DATES = [0, *list(schedule['Date'].unique())]\n",
    "TEAMS = sorted(schedule['Home'].unique())\n",
    "DESTINATIONS = [t for t in TEAMS if t != \"OhioState\"]\n",
    "\n",
    "# Define LP problem\n",
    "prob = LpProblem(\"OhioState_Travel\", LpMinimize)\n",
    "\n",
    "# Define decision variables\n",
    "choices = LpVariable.dicts(\"Travel\", (DATES, ['OhioState'], DESTINATIONS), cat='Binary')\n",
    "\n",
    "# Each destination is visited exactly once\n",
    "for t2 in DESTINATIONS:\n",
    "    prob += lpSum([choices[d]['OhioState'][t2] for d in DATES[1:]]) == 1, f\"Visit_{t2}\"\n",
    "\n",
    "# Only one trip allowed per date\n",
    "for d in DATES[1:]:\n",
    "    prob += lpSum([choices[d]['OhioState'][t2] for t2 in DESTINATIONS]) <= 1, f\"OneTripPerDay_{d}\"\n",
    "\n",
    "# Ensure that travel only happens on valid home game dates for the destination\n",
    "for d in DATES[1:]:\n",
    "    for t2 in DESTINATIONS:\n",
    "        if schedule[(schedule['Date'] == d) & (schedule['Home'] == t2)].shape[0] == 0:\n",
    "            prob += choices[d]['OhioState'][t2] == 0, f\"NoGame_{d}_{t2}\"\n",
    "\n",
    "# Objective: minimize total travel distance\n",
    "total_distance = lpSum(\n",
    "    choices[d]['OhioState'][t2] * distance_lookup[('OhioState', t2)]\n",
    "    for d in DATES[1:]\n",
    "    for t2 in DESTINATIONS\n",
    "    if ('OhioState', t2) in distance_lookup\n",
    ")\n",
    "prob += total_distance, \"MinimizeTravelDistance\"\n",
    "prob += total_distance <= 14000, \"MaxTravelDistance\"\n",
    "\n",
    "# Solve\n",
    "prob.solve()\n",
    "print(\"Status:\", LpStatus[prob.status])\n",
    "print(\"Total Miles Traveled:\", value(total_distance))\n",
    "\n",
    "# Extract results\n",
    "if LpStatus[prob.status] == 'Optimal':\n",
    "    travel_schedule = []\n",
    "    for d in DATES[1:]:\n",
    "        for t2 in DESTINATIONS:\n",
    "            if choices[d]['OhioState'][t2].varValue == 1:\n",
    "                travel_schedule.append({'source': 'OhioState', 'destination': t2, 'date': d})\n",
    "\n",
    "    solution_long = pd.DataFrame(travel_schedule)\n",
    "    solution_long['date'] = pd.to_datetime(solution_long['date'], format='%b %d, %Y', errors='coerce')\n",
    "    solution_long = solution_long.sort_values('date')\n",
    "    solution_long.to_csv(f\"{output_dir}/osu_outcome_travel_schedule.csv\")\n",
    "else:\n",
    "    print(\"Failed to find an optimal solution.\")"
   ]
  }
 ],
 "metadata": {
  "kernelspec": {
   "display_name": "Python 3",
   "language": "python",
   "name": "python3"
  },
  "language_info": {
   "codemirror_mode": {
    "name": "ipython",
    "version": 3
   },
   "file_extension": ".py",
   "mimetype": "text/x-python",
   "name": "python",
   "nbconvert_exporter": "python",
   "pygments_lexer": "ipython3",
   "version": "3.13.1"
  }
 },
 "nbformat": 4,
 "nbformat_minor": 5
}
